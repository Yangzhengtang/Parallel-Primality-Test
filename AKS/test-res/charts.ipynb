{
 "cells": [
  {
   "cell_type": "code",
   "execution_count": 1,
   "metadata": {},
   "outputs": [],
   "source": [
    "import pandas as pd"
   ]
  },
  {
   "cell_type": "code",
   "execution_count": 13,
   "metadata": {},
   "outputs": [],
   "source": [
    "# read data\n",
    "serial = pd.read_csv(\"./serial.csv\")\n",
    "para2 = pd.read_csv(\"./para-2.csv\")\n",
    "para4 = pd.read_csv(\"./para-4.csv\")\n",
    "para8 = pd.read_csv(\"./para-8.csv\")\n",
    "para16 = pd.read_csv(\"./para-16.csv\")\n",
    "\n",
    "# combine\n",
    "data = serial\n",
    "data['serial'] = data['time']\n",
    "data['para2'] = para2['time']\n",
    "data['para4'] = para4['time']\n",
    "data['para8'] = para8['time']\n",
    "data['para16'] = para16['time']\n",
    "\n",
    "# select column\n",
    "data = data.drop(['isPrime', 'time', 'n'], axis=1)\n",
    "\n",
    "# export data\n",
    "data.to_csv(\"stats.csv\", index=None)"
   ]
  },
  {
   "cell_type": "code",
   "execution_count": 17,
   "metadata": {},
   "outputs": [
    {
     "data": {
      "text/html": [
       "<div>\n",
       "<style scoped>\n",
       "    .dataframe tbody tr th:only-of-type {\n",
       "        vertical-align: middle;\n",
       "    }\n",
       "\n",
       "    .dataframe tbody tr th {\n",
       "        vertical-align: top;\n",
       "    }\n",
       "\n",
       "    .dataframe thead th {\n",
       "        text-align: right;\n",
       "    }\n",
       "</style>\n",
       "<table border=\"1\" class=\"dataframe\">\n",
       "  <thead>\n",
       "    <tr style=\"text-align: right;\">\n",
       "      <th></th>\n",
       "      <th>logn</th>\n",
       "      <th>serial</th>\n",
       "      <th>para2</th>\n",
       "      <th>para4</th>\n",
       "      <th>para8</th>\n",
       "      <th>para16</th>\n",
       "    </tr>\n",
       "  </thead>\n",
       "  <tbody>\n",
       "    <tr>\n",
       "      <th>0</th>\n",
       "      <td>2</td>\n",
       "      <td>0.00</td>\n",
       "      <td>0.000022</td>\n",
       "      <td>0.000020</td>\n",
       "      <td>0.000020</td>\n",
       "      <td>0.000021</td>\n",
       "    </tr>\n",
       "    <tr>\n",
       "      <th>1</th>\n",
       "      <td>2</td>\n",
       "      <td>0.00</td>\n",
       "      <td>0.000068</td>\n",
       "      <td>0.000069</td>\n",
       "      <td>0.000064</td>\n",
       "      <td>0.000066</td>\n",
       "    </tr>\n",
       "    <tr>\n",
       "      <th>2</th>\n",
       "      <td>3</td>\n",
       "      <td>0.00</td>\n",
       "      <td>0.000140</td>\n",
       "      <td>0.000242</td>\n",
       "      <td>0.000393</td>\n",
       "      <td>0.000748</td>\n",
       "    </tr>\n",
       "    <tr>\n",
       "      <th>3</th>\n",
       "      <td>3</td>\n",
       "      <td>0.00</td>\n",
       "      <td>0.000205</td>\n",
       "      <td>0.000185</td>\n",
       "      <td>0.000113</td>\n",
       "      <td>0.000082</td>\n",
       "    </tr>\n",
       "    <tr>\n",
       "      <th>4</th>\n",
       "      <td>4</td>\n",
       "      <td>0.00</td>\n",
       "      <td>0.000132</td>\n",
       "      <td>0.000118</td>\n",
       "      <td>0.000075</td>\n",
       "      <td>0.000080</td>\n",
       "    </tr>\n",
       "    <tr>\n",
       "      <th>...</th>\n",
       "      <td>...</td>\n",
       "      <td>...</td>\n",
       "      <td>...</td>\n",
       "      <td>...</td>\n",
       "      <td>...</td>\n",
       "      <td>...</td>\n",
       "    </tr>\n",
       "    <tr>\n",
       "      <th>231</th>\n",
       "      <td>332</td>\n",
       "      <td>3.51</td>\n",
       "      <td>2.849124</td>\n",
       "      <td>2.413580</td>\n",
       "      <td>1.464873</td>\n",
       "      <td>2.427281</td>\n",
       "    </tr>\n",
       "    <tr>\n",
       "      <th>232</th>\n",
       "      <td>331</td>\n",
       "      <td>3.48</td>\n",
       "      <td>2.721581</td>\n",
       "      <td>2.392953</td>\n",
       "      <td>1.493845</td>\n",
       "      <td>1.417254</td>\n",
       "    </tr>\n",
       "    <tr>\n",
       "      <th>233</th>\n",
       "      <td>331</td>\n",
       "      <td>3.50</td>\n",
       "      <td>2.735203</td>\n",
       "      <td>2.410006</td>\n",
       "      <td>1.633055</td>\n",
       "      <td>1.253536</td>\n",
       "    </tr>\n",
       "    <tr>\n",
       "      <th>234</th>\n",
       "      <td>332</td>\n",
       "      <td>3.59</td>\n",
       "      <td>2.993517</td>\n",
       "      <td>2.475372</td>\n",
       "      <td>1.671374</td>\n",
       "      <td>1.270034</td>\n",
       "    </tr>\n",
       "    <tr>\n",
       "      <th>235</th>\n",
       "      <td>332</td>\n",
       "      <td>14.62</td>\n",
       "      <td>10.231879</td>\n",
       "      <td>7.456569</td>\n",
       "      <td>5.031094</td>\n",
       "      <td>3.490542</td>\n",
       "    </tr>\n",
       "  </tbody>\n",
       "</table>\n",
       "<p>236 rows × 6 columns</p>\n",
       "</div>"
      ],
      "text/plain": [
       "     logn  serial      para2     para4     para8    para16\n",
       "0       2    0.00   0.000022  0.000020  0.000020  0.000021\n",
       "1       2    0.00   0.000068  0.000069  0.000064  0.000066\n",
       "2       3    0.00   0.000140  0.000242  0.000393  0.000748\n",
       "3       3    0.00   0.000205  0.000185  0.000113  0.000082\n",
       "4       4    0.00   0.000132  0.000118  0.000075  0.000080\n",
       "..    ...     ...        ...       ...       ...       ...\n",
       "231   332    3.51   2.849124  2.413580  1.464873  2.427281\n",
       "232   331    3.48   2.721581  2.392953  1.493845  1.417254\n",
       "233   331    3.50   2.735203  2.410006  1.633055  1.253536\n",
       "234   332    3.59   2.993517  2.475372  1.671374  1.270034\n",
       "235   332   14.62  10.231879  7.456569  5.031094  3.490542\n",
       "\n",
       "[236 rows x 6 columns]"
      ]
     },
     "execution_count": 17,
     "metadata": {},
     "output_type": "execute_result"
    }
   ],
   "source": []
  },
  {
   "cell_type": "code",
   "execution_count": 14,
   "metadata": {},
   "outputs": [
    {
     "data": {
      "text/plain": [
       "<AxesSubplot:xlabel='logn'>"
      ]
     },
     "execution_count": 14,
     "metadata": {},
     "output_type": "execute_result"
    },
    {
     "data": {
      "image/png": "[encoded data removed]",
      "text/plain": [
       "<Figure size 432x288 with 1 Axes>"
      ]
     },
     "metadata": {
      "needs_background": "light"
     },
     "output_type": "display_data"
    }
   ],
   "source": [
    "data.plot.line(x=\"logn\")"
   ]
  }
 ],
 "metadata": {
  "interpreter": {
   "hash": "b0fa6594d8f4cbf19f97940f81e996739fb7646882a419484c72d19e05852a7e"
  },
  "kernelspec": {
   "display_name": "Python 3.9.7 64-bit",
   "language": "python",
   "name": "python3"
  },
  "language_info": {
   "codemirror_mode": {
    "name": "ipython",
    "version": 3
   },
   "file_extension": ".py",
   "mimetype": "text/x-python",
   "name": "python",
   "nbconvert_exporter": "python",
   "pygments_lexer": "ipython3",
   "version": "3.9.7"
  },
  "orig_nbformat": 4
 },
 "nbformat": 4,
 "nbformat_minor": 2
}
